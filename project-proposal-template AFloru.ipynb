{
 "cells": [
  {
   "cell_type": "markdown",
   "metadata": {},
   "source": [
    "# Capstone proposal - PROJECT TITLE"
   ]
  },
  {
   "cell_type": "markdown",
   "metadata": {},
   "source": [
    "## The problem to be solved"
   ]
  },
  {
   "cell_type": "markdown",
   "metadata": {},
   "source": [
    "### (a) What are the main project idea and goals?"
   ]
  },
  {
   "cell_type": "markdown",
   "metadata": {},
   "source": [
    "I would like propose a project concerning GAFA (Google, Apple, Facebook, Amazon). Goals are:\n",
    "- Analyse its development and financial performance during last 5 years.\n",
    "- Compare its development to each other in terms of number of users, stock prices, market capitalisation) \n",
    "- Find out factor(s) of its success (as a hypothesis it is development of Internet and number of internet-users which favor GAFA performance).\n",
    "- Create model to predict its stock prices.\n",
    "- Create model to predict its number of users in different regions\n"
   ]
  },
  {
   "cell_type": "markdown",
   "metadata": {},
   "source": [
    "### (b) What story you would like to tell with the data and what would you like to achieve at the end?"
   ]
  },
  {
   "cell_type": "markdown",
   "metadata": {},
   "source": [
    "- To demonstrate extraordinary development of these companies during last 5 years\n",
    "- To compare them to each other in terms of performance, market capitalisation, number of users\n",
    "- To discover its possible future performance\n"
   ]
  },
  {
   "cell_type": "markdown",
   "metadata": {},
   "source": [
    "### (c) What is the main motivation behind your project?"
   ]
  },
  {
   "cell_type": "markdown",
   "metadata": {},
   "source": [
    "My interest for internet-business and aspiration to work in this area"
   ]
  },
  {
   "cell_type": "markdown",
   "metadata": {},
   "source": [
    "## The data set"
   ]
  },
  {
   "cell_type": "markdown",
   "metadata": {},
   "source": [
    "### (a) What is the size and format of the data that you plan to use?"
   ]
  },
  {
   "cell_type": "markdown",
   "metadata": {},
   "source": [
    "- NasdaqGS Real Time Price for each company for 2014-2018\n",
    "- Market capitalisation data for each company for 2014-2018\n",
    "- Main indexes history (S&P500, DJ) for 2014-2018\n",
    "- Number of internet users in the world in different regions (North America, Latin America, Europe, Asia, Oceania, Africa) for 2014-2018\n",
    "- Number of users of GAFA services for each company for 2014-2018\n",
    "- Revenue, net income for each company (optional), same period\n"
   ]
  },
  {
   "cell_type": "markdown",
   "metadata": {},
   "source": [
    "### (b) How do you expect to get, manage and process the data?"
   ]
  },
  {
   "cell_type": "markdown",
   "metadata": {},
   "source": [
    "Main sources:\n",
    "- Yahoo Finance (https://finance.yahoo.com), for example https://finance.yahoo.com/quote/GOOG/history?p=GOOG\n",
    "- https://ycharts.com/, for example https://ycharts.com/companies/GOOG/market_cap\n",
    "- https://www.internetworldstats.com, for example https://www.internetworldstats.com/stats.htm\n",
    "- https://www.statista.com\n",
    "and other open sources\n",
    "\n",
    "\n"
   ]
  },
  {
   "cell_type": "markdown",
   "metadata": {},
   "source": [
    "## The analysis and methods"
   ]
  },
  {
   "cell_type": "markdown",
   "metadata": {},
   "source": [
    "### (a) What are the main challenges that you envision for completing the project and how do you plan to get around each one?"
   ]
  },
  {
   "cell_type": "markdown",
   "metadata": {},
   "source": [
    "- to find all necessary data and to put it together in one data set\n",
    "- combine data of different periods (daily data for stock prices, quarterly data for intrenet users, etc)"
   ]
  },
  {
   "cell_type": "markdown",
   "metadata": {},
   "source": [
    "### (b) What the are steps that you plan to take to achieve the end goals?"
   ]
  },
  {
   "cell_type": "markdown",
   "metadata": {},
   "source": [
    "- Find all necessary data\n",
    "- Put it together \n",
    "- Realize necessary data cleaning  \n",
    "- Realize exploratory analysis\n",
    "- Use various visualisations\n",
    "- Create machine learning regression models "
   ]
  },
  {
   "cell_type": "markdown",
   "metadata": {},
   "source": [
    "### (c) Show us that you have a pipeline in place and that you understand the feasibility of your project goals."
   ]
  },
  {
   "cell_type": "markdown",
   "metadata": {},
   "source": [
    "- dowload data\n",
    "- manipulationg data to compile it\n",
    "- look for missing data, decide what to do with it (how to fill in, or to delete)\n",
    "- cleaning data, drop excessive data\n",
    "- look for correlations, collinearity\n",
    "- fix the insights\n",
    "\n",
    "Machie learning part\n",
    " - Create machine learning regression models Linear regression, KNN, SVM\n",
    " -- standardize data\n",
    " -- split on train/test set\n",
    " -- apply PCA as preprocessing step\n",
    " -- fit  models\n",
    " -- evaluate performance with MAE and MSE"
   ]
  },
  {
   "cell_type": "markdown",
   "metadata": {},
   "source": [
    "## The communication\n",
    "\n",
    "Here you can discuss your plan for analysis and communication of your findings."
   ]
  },
  {
   "cell_type": "code",
   "execution_count": null,
   "metadata": {},
   "outputs": [],
   "source": []
  }
 ],
 "metadata": {
  "kernelspec": {
   "display_name": "Python 3",
   "language": "python",
   "name": "python3"
  },
  "language_info": {
   "codemirror_mode": {
    "name": "ipython",
    "version": 3
   },
   "file_extension": ".py",
   "mimetype": "text/x-python",
   "name": "python",
   "nbconvert_exporter": "python",
   "pygments_lexer": "ipython3",
   "version": "3.6.4"
  }
 },
 "nbformat": 4,
 "nbformat_minor": 2
}
